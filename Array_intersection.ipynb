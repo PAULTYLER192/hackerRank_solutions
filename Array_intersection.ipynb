{
  "nbformat": 4,
  "nbformat_minor": 0,
  "metadata": {
    "colab": {
      "provenance": [],
      "authorship_tag": "ABX9TyMEJp/8xEW+w86TTtnIY+lA",
      "include_colab_link": true
    },
    "kernelspec": {
      "name": "python3",
      "display_name": "Python 3"
    },
    "language_info": {
      "name": "python"
    }
  },
  "cells": [
    {
      "cell_type": "markdown",
      "metadata": {
        "id": "view-in-github",
        "colab_type": "text"
      },
      "source": [
        "<a href=\"https://colab.research.google.com/github/PAULTYLER192/hackerRank_solutions/blob/master/Array_intersection.ipynb\" target=\"_parent\"><img src=\"https://colab.research.google.com/assets/colab-badge.svg\" alt=\"Open In Colab\"/></a>"
      ]
    },
    {
      "cell_type": "code",
      "execution_count": null,
      "metadata": {
        "colab": {
          "base_uri": "https://localhost:8080/"
        },
        "id": "lbrFE8dZnTP3",
        "outputId": "f8a0f84b-4e24-4a7b-9793-58245df6fdf2"
      },
      "outputs": [
        {
          "output_type": "stream",
          "name": "stdout",
          "text": [
            "[9, 4]\n"
          ]
        }
      ],
      "source": [
        "def find_intersection(arr1, arr2):\n",
        "    \"\"\"\n",
        "    Finds the intersection of two arrays and returns the result as a list.\n",
        "    \"\"\"\n",
        "    # Step 1: Convert one of the arrays to a set for faster lookups\n",
        "    set1 = set(arr1)\n",
        "\n",
        "    # Step 2: Use a set comprehension to find the intersection\n",
        "    intersection = {x for x in arr2 if x in set1}\n",
        "\n",
        "    # Step 3: Return the result as a list\n",
        "    return list(intersection)\n",
        "\n",
        "# Example Test\n",
        "arr1 = [4, 9, 5, 4, 4]\n",
        "arr2 = [9, 4, 9, 8, 4]\n",
        "print(find_intersection(arr1, arr2))  # Output should be [4, 9] or [9, 4]"
      ]
    },
    {
      "cell_type": "markdown",
      "source": [
        "arr1 = [1, 2, 3]\n",
        "arr2 = [4, 5, 6]\n",
        "print(find_intersection(arr1, arr2))  # Expected Output: []"
      ],
      "metadata": {
        "id": "gBCGzlpeytPO"
      }
    }
  ]
}